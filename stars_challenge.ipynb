{
 "cells": [
  {
   "attachments": {},
   "cell_type": "markdown",
   "metadata": {},
   "source": [
    "# Find the coldest 2% of stars in our dataset"
   ]
  },
  {
   "cell_type": "code",
   "execution_count": 8,
   "metadata": {},
   "outputs": [
    {
     "data": {
      "text/html": [
       "<div>\n",
       "<style scoped>\n",
       "    .dataframe tbody tr th:only-of-type {\n",
       "        vertical-align: middle;\n",
       "    }\n",
       "\n",
       "    .dataframe tbody tr th {\n",
       "        vertical-align: top;\n",
       "    }\n",
       "\n",
       "    .dataframe thead th {\n",
       "        text-align: right;\n",
       "    }\n",
       "</style>\n",
       "<table border=\"1\" class=\"dataframe\">\n",
       "  <thead>\n",
       "    <tr style=\"text-align: right;\">\n",
       "      <th></th>\n",
       "      <th>Temperature</th>\n",
       "      <th>Luminosity</th>\n",
       "      <th>Radius</th>\n",
       "      <th>Abs_magnitude</th>\n",
       "      <th>Color</th>\n",
       "      <th>Spectral_Class</th>\n",
       "      <th>Type</th>\n",
       "    </tr>\n",
       "  </thead>\n",
       "  <tbody>\n",
       "    <tr>\n",
       "      <th>2</th>\n",
       "      <td>2600</td>\n",
       "      <td>0.000300</td>\n",
       "      <td>0.102</td>\n",
       "      <td>18.70</td>\n",
       "      <td>Red</td>\n",
       "      <td>M</td>\n",
       "      <td>0</td>\n",
       "    </tr>\n",
       "    <tr>\n",
       "      <th>4</th>\n",
       "      <td>1939</td>\n",
       "      <td>0.000138</td>\n",
       "      <td>0.103</td>\n",
       "      <td>20.06</td>\n",
       "      <td>Red</td>\n",
       "      <td>M</td>\n",
       "      <td>0</td>\n",
       "    </tr>\n",
       "    <tr>\n",
       "      <th>6</th>\n",
       "      <td>2637</td>\n",
       "      <td>0.000730</td>\n",
       "      <td>0.127</td>\n",
       "      <td>17.22</td>\n",
       "      <td>Red</td>\n",
       "      <td>M</td>\n",
       "      <td>0</td>\n",
       "    </tr>\n",
       "    <tr>\n",
       "      <th>7</th>\n",
       "      <td>2600</td>\n",
       "      <td>0.000400</td>\n",
       "      <td>0.096</td>\n",
       "      <td>17.40</td>\n",
       "      <td>Red</td>\n",
       "      <td>M</td>\n",
       "      <td>0</td>\n",
       "    </tr>\n",
       "    <tr>\n",
       "      <th>78</th>\n",
       "      <td>2621</td>\n",
       "      <td>0.000600</td>\n",
       "      <td>0.098</td>\n",
       "      <td>12.81</td>\n",
       "      <td>Red</td>\n",
       "      <td>M</td>\n",
       "      <td>1</td>\n",
       "    </tr>\n",
       "  </tbody>\n",
       "</table>\n",
       "</div>"
      ],
      "text/plain": [
       "    Temperature  Luminosity  Radius  Abs_magnitude Color Spectral_Class  Type\n",
       "2          2600    0.000300   0.102          18.70   Red              M     0\n",
       "4          1939    0.000138   0.103          20.06   Red              M     0\n",
       "6          2637    0.000730   0.127          17.22   Red              M     0\n",
       "7          2600    0.000400   0.096          17.40   Red              M     0\n",
       "78         2621    0.000600   0.098          12.81   Red              M     1"
      ]
     },
     "execution_count": 8,
     "metadata": {},
     "output_type": "execute_result"
    }
   ],
   "source": [
    "import pandas as pd\n",
    "\n",
    "file = pd.read_csv(\"Stars.csv\")\n",
    "stars = pd.DataFrame(file)\n",
    "\n",
    "two_percent_quantile = stars.Temperature.quantile(0.02)\n",
    "coldest_stars = stars[stars.Temperature <= two_percent_quantile]\n",
    "coldest_stars"
   ]
  },
  {
   "attachments": {},
   "cell_type": "markdown",
   "metadata": {},
   "source": [
    "In the above code, I take the following steps:\n",
    "1. I load stars into the DataFrame.\n",
    "2. I use the .quantile() method on the Temperature column in the DataFrame and choose 0.02, to represent the coldest 2% of stars.\n",
    "3. Then I filter the coldest stars based on the condition that the Temperature column values on the dataset are less than or equal to the two percent quantil I calculated in the previous step.\n",
    "4. Lastly I print the filtered stars to give me the 5 stars."
   ]
  }
 ],
 "metadata": {
  "kernelspec": {
   "display_name": "intro_data_analysis_with_pandas_venv",
   "language": "python",
   "name": "python3"
  },
  "language_info": {
   "codemirror_mode": {
    "name": "ipython",
    "version": 3
   },
   "file_extension": ".py",
   "mimetype": "text/x-python",
   "name": "python",
   "nbconvert_exporter": "python",
   "pygments_lexer": "ipython3",
   "version": "3.11.2"
  },
  "orig_nbformat": 4
 },
 "nbformat": 4,
 "nbformat_minor": 2
}
