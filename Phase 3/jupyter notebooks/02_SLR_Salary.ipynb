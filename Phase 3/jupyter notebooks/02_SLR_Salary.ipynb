{
 "cells": [
  {
   "attachments": {},
   "cell_type": "markdown",
   "id": "47821d94-21fd-49e5-963a-e6af1d624366",
   "metadata": {},
   "source": [
    "# Simple Linear Regression - Salary Data #\n",
    "Use the dataset ***SLR_Data.csv*** for this exercise.\n"
   ]
  },
  {
   "attachments": {},
   "cell_type": "markdown",
   "id": "d2031968-b814-465c-8753-8f0c5802d0d2",
   "metadata": {},
   "source": [
    "## Import relevant packages and read the data ##"
   ]
  },
  {
   "cell_type": "code",
   "execution_count": 33,
   "id": "970aab18-7302-46df-8769-0f438484b722",
   "metadata": {},
   "outputs": [],
   "source": [
    "import pandas as pd\n",
    "import matplotlib.pyplot as plt\n",
    "import numpy as np\n",
    "from sklearn.model_selection import train_test_split\n",
    "import statsmodels.api as sm\n",
    "import sklearn.metrics as metrics\n",
    "\n",
    "salary = pd.read_csv(\"/Users/ilhaam.ahmed/Projects/intro_data_analysis_with_pandas/Phase 3/csv files/SLR_salary.csv\")\n"
   ]
  },
  {
   "attachments": {},
   "cell_type": "markdown",
   "id": "a7e42136-9410-4052-a6c7-b715d44097e6",
   "metadata": {},
   "source": [
    "## Explore the data ##\n"
   ]
  },
  {
   "cell_type": "code",
   "execution_count": 34,
   "id": "dcf6b5eb-035f-4902-8859-239f71b80e49",
   "metadata": {},
   "outputs": [
    {
     "data": {
      "text/html": [
       "<div>\n",
       "<style scoped>\n",
       "    .dataframe tbody tr th:only-of-type {\n",
       "        vertical-align: middle;\n",
       "    }\n",
       "\n",
       "    .dataframe tbody tr th {\n",
       "        vertical-align: top;\n",
       "    }\n",
       "\n",
       "    .dataframe thead th {\n",
       "        text-align: right;\n",
       "    }\n",
       "</style>\n",
       "<table border=\"1\" class=\"dataframe\">\n",
       "  <thead>\n",
       "    <tr style=\"text-align: right;\">\n",
       "      <th></th>\n",
       "      <th>YearsExperience</th>\n",
       "      <th>Salary</th>\n",
       "    </tr>\n",
       "  </thead>\n",
       "  <tbody>\n",
       "    <tr>\n",
       "      <th>0</th>\n",
       "      <td>1.1</td>\n",
       "      <td>39343</td>\n",
       "    </tr>\n",
       "    <tr>\n",
       "      <th>1</th>\n",
       "      <td>1.3</td>\n",
       "      <td>46205</td>\n",
       "    </tr>\n",
       "    <tr>\n",
       "      <th>2</th>\n",
       "      <td>1.5</td>\n",
       "      <td>37731</td>\n",
       "    </tr>\n",
       "    <tr>\n",
       "      <th>3</th>\n",
       "      <td>2.0</td>\n",
       "      <td>43525</td>\n",
       "    </tr>\n",
       "    <tr>\n",
       "      <th>4</th>\n",
       "      <td>2.2</td>\n",
       "      <td>39891</td>\n",
       "    </tr>\n",
       "  </tbody>\n",
       "</table>\n",
       "</div>"
      ],
      "text/plain": [
       "   YearsExperience  Salary\n",
       "0              1.1   39343\n",
       "1              1.3   46205\n",
       "2              1.5   37731\n",
       "3              2.0   43525\n",
       "4              2.2   39891"
      ]
     },
     "execution_count": 34,
     "metadata": {},
     "output_type": "execute_result"
    }
   ],
   "source": [
    "salary.head()"
   ]
  },
  {
   "cell_type": "code",
   "execution_count": 35,
   "id": "5f60b198",
   "metadata": {},
   "outputs": [
    {
     "data": {
      "text/html": [
       "<div>\n",
       "<style scoped>\n",
       "    .dataframe tbody tr th:only-of-type {\n",
       "        vertical-align: middle;\n",
       "    }\n",
       "\n",
       "    .dataframe tbody tr th {\n",
       "        vertical-align: top;\n",
       "    }\n",
       "\n",
       "    .dataframe thead th {\n",
       "        text-align: right;\n",
       "    }\n",
       "</style>\n",
       "<table border=\"1\" class=\"dataframe\">\n",
       "  <thead>\n",
       "    <tr style=\"text-align: right;\">\n",
       "      <th></th>\n",
       "      <th>YearsExperience</th>\n",
       "      <th>Salary</th>\n",
       "    </tr>\n",
       "  </thead>\n",
       "  <tbody>\n",
       "    <tr>\n",
       "      <th>count</th>\n",
       "      <td>30.000000</td>\n",
       "      <td>30.000000</td>\n",
       "    </tr>\n",
       "    <tr>\n",
       "      <th>mean</th>\n",
       "      <td>5.313333</td>\n",
       "      <td>76003.000000</td>\n",
       "    </tr>\n",
       "    <tr>\n",
       "      <th>std</th>\n",
       "      <td>2.837888</td>\n",
       "      <td>27414.429785</td>\n",
       "    </tr>\n",
       "    <tr>\n",
       "      <th>min</th>\n",
       "      <td>1.100000</td>\n",
       "      <td>37731.000000</td>\n",
       "    </tr>\n",
       "    <tr>\n",
       "      <th>25%</th>\n",
       "      <td>3.200000</td>\n",
       "      <td>56720.750000</td>\n",
       "    </tr>\n",
       "    <tr>\n",
       "      <th>50%</th>\n",
       "      <td>4.700000</td>\n",
       "      <td>65237.000000</td>\n",
       "    </tr>\n",
       "    <tr>\n",
       "      <th>75%</th>\n",
       "      <td>7.700000</td>\n",
       "      <td>100544.750000</td>\n",
       "    </tr>\n",
       "    <tr>\n",
       "      <th>max</th>\n",
       "      <td>10.500000</td>\n",
       "      <td>122391.000000</td>\n",
       "    </tr>\n",
       "  </tbody>\n",
       "</table>\n",
       "</div>"
      ],
      "text/plain": [
       "       YearsExperience         Salary\n",
       "count        30.000000      30.000000\n",
       "mean          5.313333   76003.000000\n",
       "std           2.837888   27414.429785\n",
       "min           1.100000   37731.000000\n",
       "25%           3.200000   56720.750000\n",
       "50%           4.700000   65237.000000\n",
       "75%           7.700000  100544.750000\n",
       "max          10.500000  122391.000000"
      ]
     },
     "execution_count": 35,
     "metadata": {},
     "output_type": "execute_result"
    }
   ],
   "source": [
    "salary.describe()"
   ]
  },
  {
   "cell_type": "code",
   "execution_count": 36,
   "id": "aa0b08a2",
   "metadata": {},
   "outputs": [
    {
     "data": {
      "text/plain": [
       "(30, 2)"
      ]
     },
     "execution_count": 36,
     "metadata": {},
     "output_type": "execute_result"
    }
   ],
   "source": [
    "salary.shape"
   ]
  },
  {
   "cell_type": "code",
   "execution_count": 37,
   "id": "44f7ba41",
   "metadata": {},
   "outputs": [
    {
     "data": {
      "text/plain": [
       "Index(['YearsExperience', 'Salary'], dtype='object')"
      ]
     },
     "execution_count": 37,
     "metadata": {},
     "output_type": "execute_result"
    }
   ],
   "source": [
    "salary.columns"
   ]
  },
  {
   "cell_type": "code",
   "execution_count": 38,
   "id": "e2c1a598",
   "metadata": {},
   "outputs": [
    {
     "name": "stdout",
     "output_type": "stream",
     "text": [
      "<class 'pandas.core.frame.DataFrame'>\n",
      "RangeIndex: 30 entries, 0 to 29\n",
      "Data columns (total 2 columns):\n",
      " #   Column           Non-Null Count  Dtype  \n",
      "---  ------           --------------  -----  \n",
      " 0   YearsExperience  30 non-null     float64\n",
      " 1   Salary           30 non-null     int64  \n",
      "dtypes: float64(1), int64(1)\n",
      "memory usage: 612.0 bytes\n"
     ]
    }
   ],
   "source": [
    "salary.info()"
   ]
  },
  {
   "cell_type": "code",
   "execution_count": 39,
   "id": "e8ab88a3",
   "metadata": {},
   "outputs": [
    {
     "data": {
      "text/html": [
       "<div>\n",
       "<style scoped>\n",
       "    .dataframe tbody tr th:only-of-type {\n",
       "        vertical-align: middle;\n",
       "    }\n",
       "\n",
       "    .dataframe tbody tr th {\n",
       "        vertical-align: top;\n",
       "    }\n",
       "\n",
       "    .dataframe thead th {\n",
       "        text-align: right;\n",
       "    }\n",
       "</style>\n",
       "<table border=\"1\" class=\"dataframe\">\n",
       "  <thead>\n",
       "    <tr style=\"text-align: right;\">\n",
       "      <th></th>\n",
       "      <th>YearsExperience</th>\n",
       "      <th>Salary</th>\n",
       "    </tr>\n",
       "  </thead>\n",
       "  <tbody>\n",
       "    <tr>\n",
       "      <th>YearsExperience</th>\n",
       "      <td>1.000000</td>\n",
       "      <td>0.978242</td>\n",
       "    </tr>\n",
       "    <tr>\n",
       "      <th>Salary</th>\n",
       "      <td>0.978242</td>\n",
       "      <td>1.000000</td>\n",
       "    </tr>\n",
       "  </tbody>\n",
       "</table>\n",
       "</div>"
      ],
      "text/plain": [
       "                 YearsExperience    Salary\n",
       "YearsExperience         1.000000  0.978242\n",
       "Salary                  0.978242  1.000000"
      ]
     },
     "execution_count": 39,
     "metadata": {},
     "output_type": "execute_result"
    }
   ],
   "source": [
    "salary.corr()"
   ]
  },
  {
   "attachments": {},
   "cell_type": "markdown",
   "id": "2957f13d-0028-49d1-bcf6-791886ed81fb",
   "metadata": {},
   "source": [
    "## Plot a Scatter graph ##"
   ]
  },
  {
   "cell_type": "code",
   "execution_count": 40,
   "id": "b624f475-6f6c-4609-a1c4-9e592b5c5ea4",
   "metadata": {},
   "outputs": [
    {
     "data": {
      "text/plain": [
       "Text(0.5, 1.0, 'Scatter graph showing Salary vs Years Experience')"
      ]
     },
     "execution_count": 40,
     "metadata": {},
     "output_type": "execute_result"
    },
    {
     "data": {
      "image/png": "[encoded data removed]",
      "text/plain": [
       "<Figure size 640x480 with 1 Axes>"
      ]
     },
     "metadata": {},
     "output_type": "display_data"
    }
   ],
   "source": [
    "x_values = salary['YearsExperience']\n",
    "y_values = salary['Salary']\n",
    "\n",
    "plt.scatter(x_values, y_values)\n",
    "\n",
    "m, c = np.polyfit(x_values, y_values, 1)\n",
    "plt.plot(x_values, m * x_values + c, color='red')\n",
    "\n",
    "plt.xlabel(\"Years Experience\")\n",
    "plt.ylabel(\"Salary\")\n",
    "plt.title(\"Scatter graph showing Salary vs Years Experience\")"
   ]
  },
  {
   "attachments": {},
   "cell_type": "markdown",
   "id": "3a5f6122-01ba-4c51-841e-0d5246e627b0",
   "metadata": {},
   "source": [
    "## Split the DataFrame into train and test data ##"
   ]
  },
  {
   "cell_type": "code",
   "execution_count": 41,
   "id": "6e0ac9ec-cba9-4173-b868-e8bf34403791",
   "metadata": {},
   "outputs": [],
   "source": [
    "train, test = train_test_split(\n",
    "    salary, random_state=13\n",
    ")"
   ]
  },
  {
   "cell_type": "code",
   "execution_count": 42,
   "id": "a57c2704",
   "metadata": {},
   "outputs": [
    {
     "data": {
      "text/plain": [
       "(    YearsExperience  Salary\n",
       " 17              5.3   83088\n",
       " 21              7.1   98273\n",
       " 0               1.1   39343\n",
       " 19              6.0   93940\n",
       " 4               2.2   39891\n",
       " 11              4.0   55794\n",
       " 9               3.7   57189\n",
       " 27              9.6  112635\n",
       " 13              4.1   57081\n",
       " 5               2.9   56642\n",
       " 14              4.5   61111\n",
       " 24              8.7  109431\n",
       " 23              8.2  113812\n",
       " 3               2.0   43525\n",
       " 12              4.0   56957\n",
       " 20              6.8   91738\n",
       " 2               1.5   37731\n",
       " 6               3.0   60150\n",
       " 28             10.3  122391\n",
       " 10              3.9   63218\n",
       " 16              5.1   66029\n",
       " 18              5.9   81363,\n",
       "     YearsExperience  Salary\n",
       " 22              7.9  101302\n",
       " 15              4.9   67938\n",
       " 26              9.5  116969\n",
       " 1               1.3   46205\n",
       " 25              9.0  105582\n",
       " 8               3.2   64445\n",
       " 7               3.2   54445\n",
       " 29             10.5  121872)"
      ]
     },
     "execution_count": 42,
     "metadata": {},
     "output_type": "execute_result"
    }
   ],
   "source": [
    "train, test"
   ]
  },
  {
   "attachments": {},
   "cell_type": "markdown",
   "id": "ce492798-5569-4848-8461-df0975850134",
   "metadata": {},
   "source": [
    "\n",
    " ## Train the model\n",
    "\n"
   ]
  },
  {
   "attachments": {},
   "cell_type": "markdown",
   "id": "f55d57e2",
   "metadata": {},
   "source": [
    "OLS regression model = Ordinary Least Squares.\n",
    "\n",
    "Step 1: Identify the independent and dependent variables, then use the add_constant function to add a column of ones to the DataFrame. \n",
    "\n",
    "Step 2: Build the OLS model using the following syntax:\n",
    "\n",
    "> model = sm.OLS(<br>\n",
    "&nbsp;&nbsp;&nbsp;&nbsp;DataFrame['dependent variable'],<br>\n",
    "&nbsp;&nbsp;&nbsp;&nbsp;DataFrame[['independent variable 1','independent variable 2',...]]<br>\n",
    ").fit()"
   ]
  },
  {
   "cell_type": "code",
   "execution_count": 43,
   "id": "00986b40-d8dc-4218-931a-67ec0ba2d7fe",
   "metadata": {},
   "outputs": [],
   "source": [
    "dependent_var = train['Salary']\n",
    "independent_var = train['YearsExperience']\n",
    "independent_var = sm.add_constant(independent_var) \n",
    "#This function adds a column of ones as the first column of the 'independent_var' DataFrame\n",
    "\n",
    "\n",
    "# Build the model \n",
    "model = sm.OLS(\n",
    "    dependent_var,\n",
    "    independent_var\n",
    ").fit() #This estimates the model paramaters using the provided data\n"
   ]
  },
  {
   "attachments": {},
   "cell_type": "markdown",
   "id": "4f3a810b-d2fb-41de-8c9b-ae192067f3e8",
   "metadata": {},
   "source": [
    "## Interpret the model results\n"
   ]
  },
  {
   "cell_type": "code",
   "execution_count": 44,
   "id": "64f57263-c844-42cf-acfe-e61f343d656c",
   "metadata": {},
   "outputs": [
    {
     "data": {
      "text/html": [
       "<table class=\"simpletable\">\n",
       "<caption>OLS Regression Results</caption>\n",
       "<tr>\n",
       "  <th>Dep. Variable:</th>         <td>Salary</td>      <th>  R-squared:         </th> <td>   0.952</td>\n",
       "</tr>\n",
       "<tr>\n",
       "  <th>Model:</th>                   <td>OLS</td>       <th>  Adj. R-squared:    </th> <td>   0.950</td>\n",
       "</tr>\n",
       "<tr>\n",
       "  <th>Method:</th>             <td>Least Squares</td>  <th>  F-statistic:       </th> <td>   398.1</td>\n",
       "</tr>\n",
       "<tr>\n",
       "  <th>Date:</th>             <td>Wed, 14 Jun 2023</td> <th>  Prob (F-statistic):</th> <td>1.13e-14</td>\n",
       "</tr>\n",
       "<tr>\n",
       "  <th>Time:</th>                 <td>14:57:14</td>     <th>  Log-Likelihood:    </th> <td> -221.31</td>\n",
       "</tr>\n",
       "<tr>\n",
       "  <th>No. Observations:</th>      <td>    22</td>      <th>  AIC:               </th> <td>   446.6</td>\n",
       "</tr>\n",
       "<tr>\n",
       "  <th>Df Residuals:</th>          <td>    20</td>      <th>  BIC:               </th> <td>   448.8</td>\n",
       "</tr>\n",
       "<tr>\n",
       "  <th>Df Model:</th>              <td>     1</td>      <th>                     </th>     <td> </td>   \n",
       "</tr>\n",
       "<tr>\n",
       "  <th>Covariance Type:</th>      <td>nonrobust</td>    <th>                     </th>     <td> </td>   \n",
       "</tr>\n",
       "</table>\n",
       "<table class=\"simpletable\">\n",
       "<tr>\n",
       "         <td></td>            <th>coef</th>     <th>std err</th>      <th>t</th>      <th>P>|t|</th>  <th>[0.025</th>    <th>0.975]</th>  \n",
       "</tr>\n",
       "<tr>\n",
       "  <th>const</th>           <td> 2.306e+04</td> <td> 2795.184</td> <td>    8.249</td> <td> 0.000</td> <td> 1.72e+04</td> <td> 2.89e+04</td>\n",
       "</tr>\n",
       "<tr>\n",
       "  <th>YearsExperience</th> <td> 9955.3660</td> <td>  498.963</td> <td>   19.952</td> <td> 0.000</td> <td> 8914.548</td> <td>  1.1e+04</td>\n",
       "</tr>\n",
       "</table>\n",
       "<table class=\"simpletable\">\n",
       "<tr>\n",
       "  <th>Omnibus:</th>       <td> 2.515</td> <th>  Durbin-Watson:     </th> <td>   1.734</td>\n",
       "</tr>\n",
       "<tr>\n",
       "  <th>Prob(Omnibus):</th> <td> 0.284</td> <th>  Jarque-Bera (JB):  </th> <td>   1.394</td>\n",
       "</tr>\n",
       "<tr>\n",
       "  <th>Skew:</th>          <td> 0.303</td> <th>  Prob(JB):          </th> <td>   0.498</td>\n",
       "</tr>\n",
       "<tr>\n",
       "  <th>Kurtosis:</th>      <td> 1.926</td> <th>  Cond. No.          </th> <td>    12.7</td>\n",
       "</tr>\n",
       "</table><br/><br/>Notes:<br/>[1] Standard Errors assume that the covariance matrix of the errors is correctly specified."
      ],
      "text/latex": [
       "\\begin{center}\n",
       "\\begin{tabular}{lclc}\n",
       "\\toprule\n",
       "\\textbf{Dep. Variable:}    &      Salary      & \\textbf{  R-squared:         } &     0.952   \\\\\n",
       "\\textbf{Model:}            &       OLS        & \\textbf{  Adj. R-squared:    } &     0.950   \\\\\n",
       "\\textbf{Method:}           &  Least Squares   & \\textbf{  F-statistic:       } &     398.1   \\\\\n",
       "\\textbf{Date:}             & Wed, 14 Jun 2023 & \\textbf{  Prob (F-statistic):} &  1.13e-14   \\\\\n",
       "\\textbf{Time:}             &     14:57:14     & \\textbf{  Log-Likelihood:    } &   -221.31   \\\\\n",
       "\\textbf{No. Observations:} &          22      & \\textbf{  AIC:               } &     446.6   \\\\\n",
       "\\textbf{Df Residuals:}     &          20      & \\textbf{  BIC:               } &     448.8   \\\\\n",
       "\\textbf{Df Model:}         &           1      & \\textbf{                     } &             \\\\\n",
       "\\textbf{Covariance Type:}  &    nonrobust     & \\textbf{                     } &             \\\\\n",
       "\\bottomrule\n",
       "\\end{tabular}\n",
       "\\begin{tabular}{lcccccc}\n",
       "                         & \\textbf{coef} & \\textbf{std err} & \\textbf{t} & \\textbf{P$> |$t$|$} & \\textbf{[0.025} & \\textbf{0.975]}  \\\\\n",
       "\\midrule\n",
       "\\textbf{const}           &    2.306e+04  &     2795.184     &     8.249  &         0.000        &     1.72e+04    &     2.89e+04     \\\\\n",
       "\\textbf{YearsExperience} &    9955.3660  &      498.963     &    19.952  &         0.000        &     8914.548    &      1.1e+04     \\\\\n",
       "\\bottomrule\n",
       "\\end{tabular}\n",
       "\\begin{tabular}{lclc}\n",
       "\\textbf{Omnibus:}       &  2.515 & \\textbf{  Durbin-Watson:     } &    1.734  \\\\\n",
       "\\textbf{Prob(Omnibus):} &  0.284 & \\textbf{  Jarque-Bera (JB):  } &    1.394  \\\\\n",
       "\\textbf{Skew:}          &  0.303 & \\textbf{  Prob(JB):          } &    0.498  \\\\\n",
       "\\textbf{Kurtosis:}      &  1.926 & \\textbf{  Cond. No.          } &     12.7  \\\\\n",
       "\\bottomrule\n",
       "\\end{tabular}\n",
       "%\\caption{OLS Regression Results}\n",
       "\\end{center}\n",
       "\n",
       "Notes: \\newline\n",
       " [1] Standard Errors assume that the covariance matrix of the errors is correctly specified."
      ],
      "text/plain": [
       "<class 'statsmodels.iolib.summary.Summary'>\n",
       "\"\"\"\n",
       "                            OLS Regression Results                            \n",
       "==============================================================================\n",
       "Dep. Variable:                 Salary   R-squared:                       0.952\n",
       "Model:                            OLS   Adj. R-squared:                  0.950\n",
       "Method:                 Least Squares   F-statistic:                     398.1\n",
       "Date:                Wed, 14 Jun 2023   Prob (F-statistic):           1.13e-14\n",
       "Time:                        14:57:14   Log-Likelihood:                -221.31\n",
       "No. Observations:                  22   AIC:                             446.6\n",
       "Df Residuals:                      20   BIC:                             448.8\n",
       "Df Model:                           1                                         \n",
       "Covariance Type:            nonrobust                                         \n",
       "===================================================================================\n",
       "                      coef    std err          t      P>|t|      [0.025      0.975]\n",
       "-----------------------------------------------------------------------------------\n",
       "const            2.306e+04   2795.184      8.249      0.000    1.72e+04    2.89e+04\n",
       "YearsExperience  9955.3660    498.963     19.952      0.000    8914.548     1.1e+04\n",
       "==============================================================================\n",
       "Omnibus:                        2.515   Durbin-Watson:                   1.734\n",
       "Prob(Omnibus):                  0.284   Jarque-Bera (JB):                1.394\n",
       "Skew:                           0.303   Prob(JB):                        0.498\n",
       "Kurtosis:                       1.926   Cond. No.                         12.7\n",
       "==============================================================================\n",
       "\n",
       "Notes:\n",
       "[1] Standard Errors assume that the covariance matrix of the errors is correctly specified.\n",
       "\"\"\""
      ]
     },
     "execution_count": 44,
     "metadata": {},
     "output_type": "execute_result"
    }
   ],
   "source": [
    "model.summary()"
   ]
  },
  {
   "attachments": {},
   "cell_type": "markdown",
   "id": "b9976580",
   "metadata": {},
   "source": [
    "### Equation of the line ###\n",
    "\n",
    "y = m*x + b\n",
    "\n",
    "y = **9955.37**x + **23060**\n",
    "\n",
    "y = 9955.37 * \\[YearsExperience] + 23060\n",
    "\n",
    "### Is the model 'a good fit'? ###\n",
    "We can use the elements of the OLS Regression results to figure this out: <br>\n",
    "\n",
    "- **p-value**\\\n",
    "Our p-value is 0.000, which is good and suggests that our data is statistically significant and that the values for our variable cannot be explained by mere coincidence.\n",
    "\n",
    "\n",
    "- **R-squared**\\\n",
    "Our R-sqaured value is 95.2\\% which is very high and suggest the data fits the model very cloesly. This is ideal but unrealistic, given that in real-world examples this will be closer to 30\\%\n",
    "\n",
    "\n",
    "- **F-Statistic**\\\n",
    "We have a high F-value which indicates that the new model is better than the old one.\n",
    "\n",
    "\n",
    "- **Prob F-Statistic**\\\n",
    "Our probability is also very low, at 1.13e-14, showing a significant difference between the models. tHE regression model is clearly MUCH better than the base model in a statistically significant way."
   ]
  },
  {
   "attachments": {},
   "cell_type": "markdown",
   "id": "d8386cd6-cdee-4be7-a741-5e6937226a7a",
   "metadata": {},
   "source": [
    "## Predict data in the test set ##\n",
    "\n"
   ]
  },
  {
   "cell_type": "code",
   "execution_count": 45,
   "id": "4109705e-5608-4a0a-9865-0558a2f3a307",
   "metadata": {},
   "outputs": [],
   "source": [
    "# Use the model to predict the test data\n",
    "\n",
    "predicted = model.predict(\n",
    "    sm.add_constant(test['YearsExperience'])\n",
    ")"
   ]
  },
  {
   "attachments": {},
   "cell_type": "markdown",
   "id": "d2dec081-ffc8-4184-bf5b-6afa84491182",
   "metadata": {},
   "source": [
    "## Is the model also 'a good fit' for our test data? ##\n"
   ]
  },
  {
   "cell_type": "code",
   "execution_count": 46,
   "id": "63fe49ff-be8a-4222-97ce-b58389b0712f",
   "metadata": {},
   "outputs": [
    {
     "data": {
      "text/plain": [
       "0.952797021479343"
      ]
     },
     "execution_count": 46,
     "metadata": {},
     "output_type": "execute_result"
    }
   ],
   "source": [
    "# Use r-squared on the predicted dataset to find out\n",
    "\n",
    "metrics.r2_score(test['Salary'],predicted)"
   ]
  },
  {
   "attachments": {},
   "cell_type": "markdown",
   "id": "2e0a2a5d",
   "metadata": {},
   "source": [
    "As you can seen the r-squared value is very high and almost the exact same as our train r-squared. This indicates the the model is a 'good fit' for our test data."
   ]
  },
  {
   "attachments": {},
   "cell_type": "markdown",
   "id": "3b2e09fb-12e5-4e51-8c36-be482a7bc77e",
   "metadata": {},
   "source": [
    "## Rebuild the model for the whole data set ##"
   ]
  },
  {
   "cell_type": "code",
   "execution_count": 47,
   "id": "d6917d09-04ec-476b-9c23-0987fefcadea",
   "metadata": {},
   "outputs": [
    {
     "data": {
      "text/html": [
       "<table class=\"simpletable\">\n",
       "<caption>OLS Regression Results</caption>\n",
       "<tr>\n",
       "  <th>Dep. Variable:</th>         <td>Salary</td>      <th>  R-squared:         </th> <td>   0.957</td>\n",
       "</tr>\n",
       "<tr>\n",
       "  <th>Model:</th>                   <td>OLS</td>       <th>  Adj. R-squared:    </th> <td>   0.955</td>\n",
       "</tr>\n",
       "<tr>\n",
       "  <th>Method:</th>             <td>Least Squares</td>  <th>  F-statistic:       </th> <td>   622.5</td>\n",
       "</tr>\n",
       "<tr>\n",
       "  <th>Date:</th>             <td>Wed, 14 Jun 2023</td> <th>  Prob (F-statistic):</th> <td>1.14e-20</td>\n",
       "</tr>\n",
       "<tr>\n",
       "  <th>Time:</th>                 <td>14:57:14</td>     <th>  Log-Likelihood:    </th> <td> -301.44</td>\n",
       "</tr>\n",
       "<tr>\n",
       "  <th>No. Observations:</th>      <td>    30</td>      <th>  AIC:               </th> <td>   606.9</td>\n",
       "</tr>\n",
       "<tr>\n",
       "  <th>Df Residuals:</th>          <td>    28</td>      <th>  BIC:               </th> <td>   609.7</td>\n",
       "</tr>\n",
       "<tr>\n",
       "  <th>Df Model:</th>              <td>     1</td>      <th>                     </th>     <td> </td>   \n",
       "</tr>\n",
       "<tr>\n",
       "  <th>Covariance Type:</th>      <td>nonrobust</td>    <th>                     </th>     <td> </td>   \n",
       "</tr>\n",
       "</table>\n",
       "<table class=\"simpletable\">\n",
       "<tr>\n",
       "         <td></td>            <th>coef</th>     <th>std err</th>      <th>t</th>      <th>P>|t|</th>  <th>[0.025</th>    <th>0.975]</th>  \n",
       "</tr>\n",
       "<tr>\n",
       "  <th>const</th>           <td> 2.579e+04</td> <td> 2273.053</td> <td>   11.347</td> <td> 0.000</td> <td> 2.11e+04</td> <td> 3.04e+04</td>\n",
       "</tr>\n",
       "<tr>\n",
       "  <th>YearsExperience</th> <td> 9449.9623</td> <td>  378.755</td> <td>   24.950</td> <td> 0.000</td> <td> 8674.119</td> <td> 1.02e+04</td>\n",
       "</tr>\n",
       "</table>\n",
       "<table class=\"simpletable\">\n",
       "<tr>\n",
       "  <th>Omnibus:</th>       <td> 2.140</td> <th>  Durbin-Watson:     </th> <td>   1.648</td>\n",
       "</tr>\n",
       "<tr>\n",
       "  <th>Prob(Omnibus):</th> <td> 0.343</td> <th>  Jarque-Bera (JB):  </th> <td>   1.569</td>\n",
       "</tr>\n",
       "<tr>\n",
       "  <th>Skew:</th>          <td> 0.363</td> <th>  Prob(JB):          </th> <td>   0.456</td>\n",
       "</tr>\n",
       "<tr>\n",
       "  <th>Kurtosis:</th>      <td> 2.147</td> <th>  Cond. No.          </th> <td>    13.2</td>\n",
       "</tr>\n",
       "</table><br/><br/>Notes:<br/>[1] Standard Errors assume that the covariance matrix of the errors is correctly specified."
      ],
      "text/latex": [
       "\\begin{center}\n",
       "\\begin{tabular}{lclc}\n",
       "\\toprule\n",
       "\\textbf{Dep. Variable:}    &      Salary      & \\textbf{  R-squared:         } &     0.957   \\\\\n",
       "\\textbf{Model:}            &       OLS        & \\textbf{  Adj. R-squared:    } &     0.955   \\\\\n",
       "\\textbf{Method:}           &  Least Squares   & \\textbf{  F-statistic:       } &     622.5   \\\\\n",
       "\\textbf{Date:}             & Wed, 14 Jun 2023 & \\textbf{  Prob (F-statistic):} &  1.14e-20   \\\\\n",
       "\\textbf{Time:}             &     14:57:14     & \\textbf{  Log-Likelihood:    } &   -301.44   \\\\\n",
       "\\textbf{No. Observations:} &          30      & \\textbf{  AIC:               } &     606.9   \\\\\n",
       "\\textbf{Df Residuals:}     &          28      & \\textbf{  BIC:               } &     609.7   \\\\\n",
       "\\textbf{Df Model:}         &           1      & \\textbf{                     } &             \\\\\n",
       "\\textbf{Covariance Type:}  &    nonrobust     & \\textbf{                     } &             \\\\\n",
       "\\bottomrule\n",
       "\\end{tabular}\n",
       "\\begin{tabular}{lcccccc}\n",
       "                         & \\textbf{coef} & \\textbf{std err} & \\textbf{t} & \\textbf{P$> |$t$|$} & \\textbf{[0.025} & \\textbf{0.975]}  \\\\\n",
       "\\midrule\n",
       "\\textbf{const}           &    2.579e+04  &     2273.053     &    11.347  &         0.000        &     2.11e+04    &     3.04e+04     \\\\\n",
       "\\textbf{YearsExperience} &    9449.9623  &      378.755     &    24.950  &         0.000        &     8674.119    &     1.02e+04     \\\\\n",
       "\\bottomrule\n",
       "\\end{tabular}\n",
       "\\begin{tabular}{lclc}\n",
       "\\textbf{Omnibus:}       &  2.140 & \\textbf{  Durbin-Watson:     } &    1.648  \\\\\n",
       "\\textbf{Prob(Omnibus):} &  0.343 & \\textbf{  Jarque-Bera (JB):  } &    1.569  \\\\\n",
       "\\textbf{Skew:}          &  0.363 & \\textbf{  Prob(JB):          } &    0.456  \\\\\n",
       "\\textbf{Kurtosis:}      &  2.147 & \\textbf{  Cond. No.          } &     13.2  \\\\\n",
       "\\bottomrule\n",
       "\\end{tabular}\n",
       "%\\caption{OLS Regression Results}\n",
       "\\end{center}\n",
       "\n",
       "Notes: \\newline\n",
       " [1] Standard Errors assume that the covariance matrix of the errors is correctly specified."
      ],
      "text/plain": [
       "<class 'statsmodels.iolib.summary.Summary'>\n",
       "\"\"\"\n",
       "                            OLS Regression Results                            \n",
       "==============================================================================\n",
       "Dep. Variable:                 Salary   R-squared:                       0.957\n",
       "Model:                            OLS   Adj. R-squared:                  0.955\n",
       "Method:                 Least Squares   F-statistic:                     622.5\n",
       "Date:                Wed, 14 Jun 2023   Prob (F-statistic):           1.14e-20\n",
       "Time:                        14:57:14   Log-Likelihood:                -301.44\n",
       "No. Observations:                  30   AIC:                             606.9\n",
       "Df Residuals:                      28   BIC:                             609.7\n",
       "Df Model:                           1                                         \n",
       "Covariance Type:            nonrobust                                         \n",
       "===================================================================================\n",
       "                      coef    std err          t      P>|t|      [0.025      0.975]\n",
       "-----------------------------------------------------------------------------------\n",
       "const            2.579e+04   2273.053     11.347      0.000    2.11e+04    3.04e+04\n",
       "YearsExperience  9449.9623    378.755     24.950      0.000    8674.119    1.02e+04\n",
       "==============================================================================\n",
       "Omnibus:                        2.140   Durbin-Watson:                   1.648\n",
       "Prob(Omnibus):                  0.343   Jarque-Bera (JB):                1.569\n",
       "Skew:                           0.363   Prob(JB):                        0.456\n",
       "Kurtosis:                       2.147   Cond. No.                         13.2\n",
       "==============================================================================\n",
       "\n",
       "Notes:\n",
       "[1] Standard Errors assume that the covariance matrix of the errors is correctly specified.\n",
       "\"\"\""
      ]
     },
     "execution_count": 47,
     "metadata": {},
     "output_type": "execute_result"
    }
   ],
   "source": [
    "dependent_var = salary['Salary']\n",
    "independent_var = salary['YearsExperience']\n",
    "independent_var = sm.add_constant(independent_var)\n",
    "\n",
    "\n",
    "model = sm.OLS(\n",
    "    dependent_var,\n",
    "    independent_var\n",
    ").fit()\n",
    "\n",
    "model.summary()"
   ]
  },
  {
   "attachments": {},
   "cell_type": "markdown",
   "id": "edcffd11-9b5d-4b6d-8b1e-2ade03514ea1",
   "metadata": {},
   "source": [
    "## Make a prediction ##\n",
    "\n",
    "- Make a prediction for Salary with a Years Experience of 15"
   ]
  },
  {
   "cell_type": "code",
   "execution_count": 48,
   "id": "d6a5ce87-a2a6-45f0-a6b5-3698d8692ab8",
   "metadata": {},
   "outputs": [
    {
     "data": {
      "text/plain": [
       "167541.63502049487"
      ]
     },
     "execution_count": 48,
     "metadata": {},
     "output_type": "execute_result"
    }
   ],
   "source": [
    "salary_pred = model.predict([1, 15])\n",
    "salary_pred[0]"
   ]
  }
 ],
 "metadata": {
  "kernelspec": {
   "display_name": "Python 3 (ipykernel)",
   "language": "python",
   "name": "python3"
  },
  "language_info": {
   "codemirror_mode": {
    "name": "ipython",
    "version": 3
   },
   "file_extension": ".py",
   "mimetype": "text/x-python",
   "name": "python",
   "nbconvert_exporter": "python",
   "pygments_lexer": "ipython3",
   "version": "3.11.2"
  }
 },
 "nbformat": 4,
 "nbformat_minor": 5
}
