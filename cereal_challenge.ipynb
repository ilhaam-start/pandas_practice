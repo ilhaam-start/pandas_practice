{
 "cells": [
  {
   "cell_type": "code",
   "execution_count": null,
   "metadata": {},
   "outputs": [],
   "source": [
    "import pandas as pd\n",
    "import matplotlib.pyplot as plt\n",
    "import numpy as np\n",
    "\n",
    "file = pd.read_csv(\"cereal.csv\")\n",
    "cereals = pd.DataFrame(file)\n",
    "cereals\n",
    "\n"
   ]
  },
  {
   "attachments": {},
   "cell_type": "markdown",
   "metadata": {},
   "source": [
    "Your challenge is to plot the calories of each cereal against their sugar content.\n",
    "\n",
    "You will notice there are missing values. Choose the most appropriate method to filling, or removing those values so as not to skew your results.\n",
    "\n",
    "We will use this cleaned data for visualising in the next Chapter!"
   ]
  },
  {
   "cell_type": "code",
   "execution_count": null,
   "metadata": {},
   "outputs": [],
   "source": [
    "#Find out the missing values\n",
    "cereals.isnull().values.any()\n",
    "#Where are the missing values\n",
    "for column in cereals:\n",
    "    print(f\"Missing column: {column}\")\n",
    "    print(f\"Is missing values: {cereals[column].isnull().any()} \\n\")"
   ]
  },
  {
   "cell_type": "code",
   "execution_count": null,
   "metadata": {},
   "outputs": [],
   "source": [
    "#If there are only a few with missing values it will be sensible to drop these values. \n",
    "#If not, then find another method to fill these.\n",
    "\n",
    "cereals_missing_calories = cereals[['name', 'calories', 'sugars']].loc[cereals['calories'].isnull()]\n",
    "cereals_missing_sugars = cereals[['name', 'calories', 'sugars']].loc[cereals['sugars'].isnull()]\n",
    "print(cereals_missing_calories)\n",
    "print(cereals_missing_sugars)\n",
    "    "
   ]
  },
  {
   "attachments": {},
   "cell_type": "markdown",
   "metadata": {},
   "source": [
    "Looking at the above, I think the most sensible way to fill the values is by calculating the mean.\n",
    "So for Cheerios, to fill in the calories I would calculate the mean calories for all cereals with 1.0 sugar content. Then same for Cornflakes, honey nut, etc. For each one I will calculate the mean calores for cereals that have its corresponding sugar content.\n",
    "\n",
    "I will follow the same method for the cereals missing sugars. So for the cereals with 120 calories, I will calculate the mean sugar content for cereals with 120 calories, and for 110 calories I will calculate accordingly."
   ]
  },
  {
   "cell_type": "code",
   "execution_count": null,
   "metadata": {},
   "outputs": [],
   "source": [
    "#Lets fill Cheerios with a random value, as I can't do a mean.\n",
    "\n",
    "for sugars in cereals['sugars']:\n",
    "    if sugars == 1.0:\n",
    "        average_calories_1 = 110\n",
    "\n",
    "    elif sugars == 2.0:\n",
    "        average_calories_2 = cereals.loc[cereals['sugars'] == 2.0, 'calories'].mean()\n",
    "        \n",
    "    elif sugars == 10.0:\n",
    "        average_calories_10 = cereals.loc[cereals['sugars'] == 10.0, 'calories'].mean()\n",
    "    \n",
    "    elif sugars == 3.0:\n",
    "        average_calories_3 = cereals.loc[cereals['sugars'] == 3.0, 'calories'].mean()\n",
    "\n",
    "print(average_calories_1)\n",
    "print(average_calories_2)\n",
    "print(average_calories_10)\n",
    "print(average_calories_3)\n",
    "\n",
    "cereals.loc[(cereals['sugars'] == 1.0) & (cereals['calories'].isnull()), 'calories'] = average_calories_1\n",
    "cereals.loc[(cereals['sugars'] == 2.0) & (cereals['calories'].isnull()), 'calories'] = average_calories_2\n",
    "cereals.loc[(cereals['sugars'] == 10.0) & (cereals['calories'].isnull()), 'calories'] = average_calories_10\n",
    "cereals.loc[(cereals['sugars'] == 3.0) & (cereals['calories'].isnull()), 'calories'] = average_calories_3\n"
   ]
  },
  {
   "cell_type": "code",
   "execution_count": null,
   "metadata": {},
   "outputs": [],
   "source": [
    "for calories in cereals['calories']:\n",
    "    if calories == 110:\n",
    "        average_sugars_110 = cereals.loc[cereals['calories'] == 110, 'sugars'].mean()\n",
    "\n",
    "    elif calories == 120:\n",
    "        average_sugars_120 = cereals.loc[cereals['calories'] == 120, 'sugars'].mean()\n",
    "\n",
    "print(average_sugars_110)\n",
    "print(average_sugars_120)\n",
    "\n",
    "cereals.loc[(cereals['calories'] == 110) & (cereals['sugars'].isnull()), 'sugars'] = average_sugars_110\n",
    "cereals.loc[(cereals['calories'] == 120) & (cereals['sugars'].isnull()), 'sugars'] = average_sugars_120\n"
   ]
  },
  {
   "cell_type": "code",
   "execution_count": null,
   "metadata": {},
   "outputs": [],
   "source": [
    "cereals.iloc[0:35]"
   ]
  },
  {
   "cell_type": "code",
   "execution_count": null,
   "metadata": {},
   "outputs": [],
   "source": [
    "cereals.iloc[35:77]"
   ]
  },
  {
   "attachments": {},
   "cell_type": "markdown",
   "metadata": {},
   "source": [
    "# Now that I have filled in the missing values, the challenge is to plot the calories of each cereal against their sugar content."
   ]
  },
  {
   "cell_type": "code",
   "execution_count": null,
   "metadata": {},
   "outputs": [],
   "source": [
    "plt.scatter(cereals['calories'], cereals['sugars'])\n",
    "plt.xlabel('Calories')\n",
    "plt.ylabel('Sugars')\n",
    "plt.title(\"Calories vs Sugars\")\n",
    "plt.show()"
   ]
  },
  {
   "cell_type": "code",
   "execution_count": null,
   "metadata": {},
   "outputs": [],
   "source": [
    "sugar_vs_calorie_corr = cereals['sugars'].corr(cereals['calories'])\n",
    "print(f\"The correlation between sugar and calories is: {sugar_vs_calorie_corr}\")"
   ]
  },
  {
   "attachments": {},
   "cell_type": "markdown",
   "metadata": {},
   "source": [
    "The question is, does the sugar content influence the calorie count? \n",
    "\n",
    "Looking at the above visualisation it is clear there is a positive correlation. This indicates that as the sugar content increases so the the calorie count and vice versa."
   ]
  },
  {
   "attachments": {},
   "cell_type": "markdown",
   "metadata": {},
   "source": [
    "# Which are the top 4 cereals for vitamin content?Visualise your conclusion."
   ]
  },
  {
   "cell_type": "code",
   "execution_count": null,
   "metadata": {},
   "outputs": [],
   "source": [
    "group_by = cereals[['name', 'mfr', 'vitamins']]\n",
    "vitamin_content_rank = group_by.sort_values(by='vitamins', ascending=False).iloc[0:4]\n",
    "vitamin_content_rank.index = range(1, len(vitamin_content_rank) + 1)\n",
    "vitamin_content_rank"
   ]
  },
  {
   "attachments": {},
   "cell_type": "markdown",
   "metadata": {},
   "source": [
    "To visualise the top 4 cereals with vitamin content in the DataFrame, I have taken the following steps:\n",
    "1. I grouped the cereals by name, manufacturer and vitamins.\n",
    "2. I created a variable that stores the filtered DataFrame and sorts the values by vitamins in descending order, then filtered this further to only see the first 4.\n",
    "3. In order to have my table ordered from 1 to 4, I indexed my filtered DataFrame and used this code 'range(1, len(vitamin_content_rank) + 1)'. This generates a range of numbers ordered from 1 to the length of my results. By adding 1 we stop the value of the range, we ensure that the range includes the upper bound."
   ]
  },
  {
   "cell_type": "code",
   "execution_count": null,
   "metadata": {},
   "outputs": [],
   "source": [
    "x = vitamin_content_rank['name']\n",
    "y = vitamin_content_rank['vitamins']\n",
    "plt.bar(x, y)\n",
    "plt.xlabel(\"Cereal Name\")\n",
    "plt.ylabel(\"Vitamin content\")\n",
    "plt.xticks(rotation=-10)"
   ]
  },
  {
   "attachments": {},
   "cell_type": "markdown",
   "metadata": {},
   "source": [
    "As you can see, I've used a bar graph to show the top 4 cereals with vitamin content. Although I'm not sure how helpful this is given that they all have the same value."
   ]
  },
  {
   "attachments": {},
   "cell_type": "markdown",
   "metadata": {},
   "source": [
    "# Which are the top 4 cereals for protein? Visualise your conclusion."
   ]
  },
  {
   "cell_type": "code",
   "execution_count": null,
   "metadata": {},
   "outputs": [],
   "source": [
    "group_by = cereals[['name', 'mfr', 'protein']]\n",
    "vitamin_content_rank = group_by.sort_values(by='protein', ascending=False).iloc[0:4]\n",
    "vitamin_content_rank.index = range(1, len(vitamin_content_rank) + 1)\n",
    "vitamin_content_rank"
   ]
  },
  {
   "attachments": {},
   "cell_type": "markdown",
   "metadata": {},
   "source": [
    "Here I have used the same code as I did when visualising the vitamin content, except this is sorted by protein.\n",
    "The numbers here are varied so I believe the easiest chart to visualise this would be a bar chart. See below:"
   ]
  },
  {
   "cell_type": "code",
   "execution_count": null,
   "metadata": {},
   "outputs": [],
   "source": [
    "x = vitamin_content_rank['name']\n",
    "y = vitamin_content_rank['protein']\n",
    "colors = ['orange', 'green', 'pink', 'blue']\n",
    "\n",
    "plt.bar(x, y, color=colors) #added colors so each bar is filled by a specific color\n",
    "plt.xlabel(\"Cereal Name\")\n",
    "plt.ylabel(\"Protein content\")\n",
    "plt.title(\"Protein in Cereal\")\n",
    "plt.show()"
   ]
  },
  {
   "attachments": {},
   "cell_type": "markdown",
   "metadata": {},
   "source": [
    "# Does Sodium content positively or negatively affect overall ranking? Visualise your conclusion."
   ]
  },
  {
   "cell_type": "code",
   "execution_count": null,
   "metadata": {},
   "outputs": [],
   "source": [
    "cereals.columns\n",
    "group_by_sodium = cereals[['name', 'mfr', 'sodium', 'rating']]\n",
    "sodium_vs_rating = group_by_sodium.sort_values(by='sodium', ascending=False)\n",
    "sodium_vs_rating.index = range(1, len(sodium_vs_rating) + 1)\n",
    "sodium_vs_rating\n"
   ]
  },
  {
   "attachments": {},
   "cell_type": "markdown",
   "metadata": {},
   "source": [
    "As you can see above, I have filtered the DataFrame and sorted by sodium content. The top five cereals with the highest sodium content have lower ratings than the bottom five with the lowest sodium content.\n",
    "\n",
    "Below I'm going to plot the sodium content and rating on the same chart to show if sodium positively or negatively affects rating."
   ]
  },
  {
   "cell_type": "code",
   "execution_count": null,
   "metadata": {},
   "outputs": [],
   "source": [
    "x = sodium_vs_rating['name']\n",
    "y1 = sodium_vs_rating['sodium']\n",
    "y2 = sodium_vs_rating['rating']\n",
    "\n",
    "fig, ax1 = plt.subplots()\n",
    "\n",
    "ax2 = ax1.twinx()\n",
    "ax1.plot(x, y1, 'g-')\n",
    "ax2.plot(x, y2, 'b-')\n",
    "\n",
    "ax1.set_xlabel('Cereal')\n",
    "ax1.set_ylabel('Sodium content', color='r')\n",
    "ax2.set_ylabel('Rating', color='b')\n"
   ]
  },
  {
   "cell_type": "code",
   "execution_count": null,
   "metadata": {},
   "outputs": [],
   "source": [
    "plt.bar(x, y1, label=\"Sodium\")\n",
    "plt.bar(x, y2, width=0.4, label=\"Rating\")\n",
    "\n",
    "plt.xlabel(\"Cereals\")\n",
    "plt.ylabel(\"Amount\")\n",
    "plt.xticks(rotation=-90)\n",
    "\n",
    "plt.title(\"Sodium content vs Rating\")\n",
    "plt.legend(loc=\"upper right\" )\n",
    "plt.show()"
   ]
  },
  {
   "attachments": {},
   "cell_type": "markdown",
   "metadata": {},
   "source": [
    "Out of the two graphs I've plotted, the second one is better visually as I can see them against each other. Based on my finding it seems that the rating fluctuates so it is difficult to tell whether lower sodium content means increased ratings. Though if you look closely you can see that the ratings do increase a little towards the lower end of the sodium content.\n",
    "\n",
    "The names of the cereals all being muddle together makes it look terrible. So below I'll make a graph that only looks at the top 15 and another graph that looks at the bottom 15."
   ]
  },
  {
   "cell_type": "code",
   "execution_count": null,
   "metadata": {},
   "outputs": [],
   "source": [
    "x = sodium_vs_rating['name'].iloc[0:15]\n",
    "y1 = sodium_vs_rating['sodium'].iloc[0:15]\n",
    "y2 = sodium_vs_rating['rating'].iloc[0:15]\n",
    "\n",
    "plt.bar(x, y1, label=\"Sodium\")\n",
    "plt.bar(x, y2, width=0.4, label=\"Rating\")\n",
    "\n",
    "plt.xlabel(\"Cereals\")\n",
    "plt.ylabel(\"Amount\")\n",
    "plt.xticks(rotation=-90)\n",
    "\n",
    "plt.title(\"Sodium content vs Rating\")\n",
    "plt.legend(loc=\"upper right\" )\n",
    "plt.show()"
   ]
  },
  {
   "attachments": {},
   "cell_type": "markdown",
   "metadata": {},
   "source": [
    "Now one that looks at the bottom 15."
   ]
  },
  {
   "cell_type": "code",
   "execution_count": null,
   "metadata": {},
   "outputs": [],
   "source": [
    "x = sodium_vs_rating['name'].iloc[62:77]\n",
    "y1 = sodium_vs_rating['sodium'].iloc[62:77]\n",
    "y2 = sodium_vs_rating['rating'].iloc[62:77]\n",
    "\n",
    "plt.bar(x, y1, label=\"Sodium\")\n",
    "plt.bar(x, y2, width=0.4, label=\"Rating\")\n",
    "\n",
    "plt.xlabel(\"Cereals\")\n",
    "plt.ylabel(\"Amount\")\n",
    "plt.xticks(rotation=-90)\n",
    "plt.yticks(np.arange(0, 300, step=50))\n",
    "\n",
    "plt.title(\"Sodium content vs Rating\")\n",
    "plt.legend(loc=\"upper right\" )\n",
    "plt.show()"
   ]
  },
  {
   "attachments": {},
   "cell_type": "markdown",
   "metadata": {},
   "source": [
    "# Conclusion\n",
    "\n",
    "Overall, I would say that Sodium content negatively affects Rating"
   ]
  }
 ],
 "metadata": {
  "kernelspec": {
   "display_name": "intro_data_analysis_with_pandas_venv",
   "language": "python",
   "name": "python3"
  },
  "language_info": {
   "codemirror_mode": {
    "name": "ipython",
    "version": 3
   },
   "file_extension": ".py",
   "mimetype": "text/x-python",
   "name": "python",
   "nbconvert_exporter": "python",
   "pygments_lexer": "ipython3",
   "version": "3.11.2"
  },
  "orig_nbformat": 4
 },
 "nbformat": 4,
 "nbformat_minor": 2
}
