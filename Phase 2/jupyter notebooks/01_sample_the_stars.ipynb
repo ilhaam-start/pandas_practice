{
 "cells": [
  {
   "attachments": {},
   "cell_type": "markdown",
   "metadata": {},
   "source": [
    "# Sample The Stars\n",
    "\n",
    "For this exercise, our population will be the [240 stars selected by NASA](https://www.kaggle.com/datasets/brsdincer/star-type-classification) for their examples of star classification. The aim is to pick a sample of these stars. "
   ]
  },
  {
   "cell_type": "code",
   "execution_count": 1,
   "metadata": {},
   "outputs": [
    {
     "name": "stdout",
     "output_type": "stream",
     "text": [
      "     Temperature    Luminosity    Radius  Abs_magnitude       Color  \\\n",
      "239        37882  294903.00000  1783.000          -7.80        Blue   \n",
      "98         12098     689.00000     7.010           0.02  Blue-white   \n",
      "175         3614  145000.00000  1553.000          -7.71         Red   \n",
      "61          3432       0.00067     0.190          16.94         Red   \n",
      "212        13089     788.00000     5.992          -0.12  Blue-white   \n",
      "155        28700   16790.00000     6.400          -4.09  Blue-white   \n",
      "12          3134       0.00040     0.196          13.21         Red   \n",
      "\n",
      "    Spectral_Class  Type  \n",
      "239              O     5  \n",
      "98               A     3  \n",
      "175              M     5  \n",
      "61               M     0  \n",
      "212              A     3  \n",
      "155              B     3  \n",
      "12               M     1  \n"
     ]
    }
   ],
   "source": [
    "import pandas as pd\n",
    "import numpy as np\n",
    "\n",
    "# There is a Stars.csv file in the data/smaller-datasets directory\n",
    "# load that file into a pandas data frame\n",
    "file = pd.read_csv(\"/Users/ilhaam.ahmed/Projects/intro_data_analysis_with_pandas/Phase 2/csv files/Stars.csv\")\n",
    "stars = pd.DataFrame(file)\n",
    "\n",
    "# Print a sample of seven stars from that data collection\n",
    "print(stars.sample(7))"
   ]
  },
  {
   "attachments": {},
   "cell_type": "markdown",
   "metadata": {},
   "source": [
    "Find the range in temperature of all the stars in our mini-catalogue. "
   ]
  },
  {
   "cell_type": "code",
   "execution_count": 2,
   "metadata": {},
   "outputs": [
    {
     "data": {
      "text/plain": [
       "38061"
      ]
     },
     "execution_count": 2,
     "metadata": {},
     "output_type": "execute_result"
    }
   ],
   "source": [
    "temperatures = stars.Temperature\n",
    "highest_temp = np.max(temperatures)\n",
    "lowest_temp = np.min(temperatures)\n",
    "range_temp = highest_temp - lowest_temp\n",
    "range_temp"
   ]
  },
  {
   "attachments": {},
   "cell_type": "markdown",
   "metadata": {},
   "source": [
    "As an extra challenge: try to find the range for each colour of star."
   ]
  },
  {
   "cell_type": "code",
   "execution_count": 3,
   "metadata": {},
   "outputs": [
    {
     "name": "stdout",
     "output_type": "stream",
     "text": [
      "Temperature range for Blue: 34248\n",
      "Temperature range for Blue-white: 21430\n",
      "Temperature range for Orange: 538\n",
      "Temperature range for Orange-Red: 0\n",
      "Temperature range for Pale yellow orange: 0\n",
      "Temperature range for Red: 4911\n",
      "Temperature range for White: 7512\n",
      "Temperature range for White-Yellow: 0\n",
      "Temperature range for Whitish: 1648\n",
      "Temperature range for Yellowish: 903\n",
      "Temperature range for Yellowish White: 5290\n",
      "Temperature range for yellow-white: 2950\n"
     ]
    }
   ],
   "source": [
    "for color, group in stars.groupby(\"Color\"):\n",
    "    temperature_range = np.ptp(group[\"Temperature\"])\n",
    "    print(f\"Temperature range for {color}: {temperature_range}\")\n"
   ]
  },
  {
   "attachments": {},
   "cell_type": "markdown",
   "metadata": {},
   "source": [
    "1. 'groupby()' is used to group the DataFrame by the unique values in the \"Color\" column\n",
    "2. The 'groupby()' function returns a group object, which represents each group (in this case grouped by color)\n",
    "3. Within the loop we access the color value and the corresponding group\n",
    "4. We calculate the temperature range for the group using numpy by calling np.ptp(group[\"Temperature\"])\n",
    "5. Finally we print the temeprature range for each color within the loop"
   ]
  },
  {
   "cell_type": "code",
   "execution_count": 4,
   "metadata": {},
   "outputs": [
    {
     "data": {
      "text/html": [
       "<div>\n",
       "<style scoped>\n",
       "    .dataframe tbody tr th:only-of-type {\n",
       "        vertical-align: middle;\n",
       "    }\n",
       "\n",
       "    .dataframe tbody tr th {\n",
       "        vertical-align: top;\n",
       "    }\n",
       "\n",
       "    .dataframe thead th {\n",
       "        text-align: right;\n",
       "    }\n",
       "</style>\n",
       "<table border=\"1\" class=\"dataframe\">\n",
       "  <thead>\n",
       "    <tr style=\"text-align: right;\">\n",
       "      <th></th>\n",
       "      <th>Color</th>\n",
       "      <th>frequency</th>\n",
       "    </tr>\n",
       "  </thead>\n",
       "  <tbody>\n",
       "    <tr>\n",
       "      <th>5</th>\n",
       "      <td>Red</td>\n",
       "      <td>112</td>\n",
       "    </tr>\n",
       "    <tr>\n",
       "      <th>0</th>\n",
       "      <td>Blue</td>\n",
       "      <td>56</td>\n",
       "    </tr>\n",
       "    <tr>\n",
       "      <th>1</th>\n",
       "      <td>Blue-white</td>\n",
       "      <td>41</td>\n",
       "    </tr>\n",
       "    <tr>\n",
       "      <th>6</th>\n",
       "      <td>White</td>\n",
       "      <td>10</td>\n",
       "    </tr>\n",
       "    <tr>\n",
       "      <th>11</th>\n",
       "      <td>yellow-white</td>\n",
       "      <td>8</td>\n",
       "    </tr>\n",
       "    <tr>\n",
       "      <th>9</th>\n",
       "      <td>Yellowish</td>\n",
       "      <td>3</td>\n",
       "    </tr>\n",
       "    <tr>\n",
       "      <th>10</th>\n",
       "      <td>Yellowish White</td>\n",
       "      <td>3</td>\n",
       "    </tr>\n",
       "    <tr>\n",
       "      <th>2</th>\n",
       "      <td>Orange</td>\n",
       "      <td>2</td>\n",
       "    </tr>\n",
       "    <tr>\n",
       "      <th>8</th>\n",
       "      <td>Whitish</td>\n",
       "      <td>2</td>\n",
       "    </tr>\n",
       "    <tr>\n",
       "      <th>3</th>\n",
       "      <td>Orange-Red</td>\n",
       "      <td>1</td>\n",
       "    </tr>\n",
       "    <tr>\n",
       "      <th>4</th>\n",
       "      <td>Pale yellow orange</td>\n",
       "      <td>1</td>\n",
       "    </tr>\n",
       "    <tr>\n",
       "      <th>7</th>\n",
       "      <td>White-Yellow</td>\n",
       "      <td>1</td>\n",
       "    </tr>\n",
       "  </tbody>\n",
       "</table>\n",
       "</div>"
      ],
      "text/plain": [
       "                 Color  frequency\n",
       "5                  Red        112\n",
       "0                 Blue         56\n",
       "1           Blue-white         41\n",
       "6                White         10\n",
       "11        yellow-white          8\n",
       "9            Yellowish          3\n",
       "10     Yellowish White          3\n",
       "2               Orange          2\n",
       "8              Whitish          2\n",
       "3           Orange-Red          1\n",
       "4   Pale yellow orange          1\n",
       "7         White-Yellow          1"
      ]
     },
     "execution_count": 4,
     "metadata": {},
     "output_type": "execute_result"
    }
   ],
   "source": [
    "frequency_table = stars.groupby(\"Color\").size().reset_index(name=\"frequency\").sort_values(by=\"frequency\", ascending=False)\n",
    "frequency_table\n",
    "\n",
    "#stars.groupby(\"Color\"): This groups the DataFrame by the unique values in the color column.\n",
    "#.size(): This looks at the size of each group which represents the count or frequencey of occurences. counts the number of rows in each group\n",
    "#.reset_index(name=\"frequency\"): This resets the index of the series and adds a new column names frequency\n",
    "#.sort_values(by=\"frequency\", ascending=False): This sorts the frequency table in descending order."
   ]
  },
  {
   "attachments": {},
   "cell_type": "markdown",
   "metadata": {},
   "source": [
    "For this exercise, our population will be the 240 stars selected by NASA for their examples of star classification. The aim is to use scatter diagrams to look for anything 'interesting' in the data.\n",
    "\n",
    "The first thing to do is to look at the data. So run this code block to see a summary of it."
   ]
  },
  {
   "cell_type": "code",
   "execution_count": 5,
   "metadata": {},
   "outputs": [
    {
     "name": "stdout",
     "output_type": "stream",
     "text": [
      "<class 'pandas.core.frame.DataFrame'>\n",
      "RangeIndex: 240 entries, 0 to 239\n",
      "Data columns (total 7 columns):\n",
      " #   Column          Non-Null Count  Dtype  \n",
      "---  ------          --------------  -----  \n",
      " 0   Temperature     240 non-null    int64  \n",
      " 1   Luminosity      240 non-null    float64\n",
      " 2   Radius          240 non-null    float64\n",
      " 3   Abs_magnitude   240 non-null    float64\n",
      " 4   Color           240 non-null    object \n",
      " 5   Spectral_Class  240 non-null    object \n",
      " 6   Type            240 non-null    int64  \n",
      "dtypes: float64(3), int64(2), object(2)\n",
      "memory usage: 13.3+ KB\n",
      "None\n",
      "   Temperature  Luminosity  Radius  Abs_magnitude Color Spectral_Class  Type\n",
      "0         3068    0.002400  0.1700          16.12   Red              M     0\n",
      "1         3042    0.000500  0.1542          16.60   Red              M     0\n",
      "2         2600    0.000300  0.1020          18.70   Red              M     0\n",
      "3         2800    0.000200  0.1600          16.65   Red              M     0\n",
      "4         1939    0.000138  0.1030          20.06   Red              M     0\n"
     ]
    }
   ],
   "source": [
    "print(stars.info())\n",
    "print(stars.head())"
   ]
  },
  {
   "attachments": {},
   "cell_type": "markdown",
   "metadata": {},
   "source": [
    "So we can see that we have 7 columns: Temperature, Luminosity, Radius, Abs_magnitude, Color, Spectral_Class, Type\n",
    "We are going to pick two of the numerical columns and plot a scatter diagram. (There is a reason why the x-axis is reversed. It has to do with a famous diagram I hope to get to later in the course.)"
   ]
  },
  {
   "cell_type": "code",
   "execution_count": 6,
   "metadata": {},
   "outputs": [
    {
     "data": {
      "application/vnd.jupyter.widget-view+json": {
       "model_id": "80c1c6abf71249f489de993962a139eb",
       "version_major": 2,
       "version_minor": 0
      },
      "text/plain": [
       "interactive(children=(Dropdown(description='x-axis', options=('Temperature', 'Luminosity', 'Radius', 'Abs_magn…"
      ]
     },
     "metadata": {},
     "output_type": "display_data"
    }
   ],
   "source": [
    "import matplotlib.pyplot as plt\n",
    "import numpy as np\n",
    "from ipywidgets import interact, Dropdown, SelectionSlider\n",
    "\n",
    "@interact(\n",
    "        x = Dropdown(\n",
    "            options=[\"Temperature\", \"Luminosity\", \"Radius\", \"Abs_magnitude\"],\n",
    "            value=\"Temperature\",\n",
    "            description=\"x-axis\",\n",
    "            continuous_update=False\n",
    "        ),\n",
    "        y = Dropdown(\n",
    "            options=[\"Temperature\", \"Luminosity\", \"Radius\", \"Abs_magnitude\", \"Color\"],\n",
    "            value=\"Abs_magnitude\",\n",
    "            description=\"y-axis\",\n",
    "            continuous_update=False\n",
    "        ),\n",
    "        use_log = SelectionSlider(\n",
    "            options = [\"given values\", \"logarithmic\"],\n",
    "            value = \"given values\",\n",
    "            description= \"mode\"\n",
    "        )\n",
    ")\n",
    "def pick_xy(x, y, use_log):\n",
    "    x_vals = stars[x]\n",
    "    y_vals = stars[y]\n",
    "\n",
    "    fig, ax = plt.subplots()\n",
    "    if use_log == \"logarithmic\":\n",
    "        if y == \"Color\":\n",
    "            ax.scatter(np.log(x_vals), y_vals, c=y_vals, cmap=\"viridis\")\n",
    "        else:\n",
    "            ax.scatter(np.log(x_vals), np.log(y_vals), c=y_vals, cmap=\"viridis\")\n",
    "        x = \"log of \" + x\n",
    "        y = \"log of \" + y\n",
    "    else:\n",
    "        ax.scatter(x_vals, y_vals, c=y_vals, cmap=\"viridis\")\n",
    "    plt.gca().invert_xaxis()\n",
    "    plt.xlabel(x)\n",
    "    plt.ylabel(y)\n",
    "    plt.title(\"Scatter graph of \"+x+\" vs \"+ y)\n",
    "    plt.show()"
   ]
  },
  {
   "attachments": {},
   "cell_type": "markdown",
   "metadata": {},
   "source": [
    "Interesting Combinations:\n",
    "\n",
    "- Abs_magnitude vs Temperature\n",
    "- Temperature vs Luminosity (especially in logarithmic mode)\n"
   ]
  },
  {
   "attachments": {},
   "cell_type": "markdown",
   "metadata": {},
   "source": [
    "What is the code doing:\n",
    "1. The @interact decorater from the ipywidgets library allows the user to select options for the x-axis, y-axis, and mode.\n",
    "2. Inside the pick_xy function, the x and y axis values are retrieved from the dataframe\n",
    "3. It then creates a new figure and axes using 'plt.subplots()' to preapre for plotting the scatter graph\n",
    "4. The code checks the use_log variable to determine if the selected mode is \"logarithmic' or 'given values'.\n",
    "5. If the mode is \"logarithmic\", the code performs the following steps:\n",
    "    - If the y-axis is \"Color\", it plots the scatter graph using the logarithm of x_vals as the x-axis and y_vals as the y-axis. The color of the scatter points is determined by y-vals using the viridis color map.\n",
    "    - If the y-axis is not \"Color\", it plots the scatter graph using the logarithm of x_vals as the x-axis and the logarithm of y_vals as the y-axis. The color of the scatter points is determined by y-vals using the viridis color map.\n",
    "    - The x-axis and y-axis labels are updated\n",
    "6. If the mode is not \"logarithmic\", the code plots the scatter graph using x_vals as the x-axis and y_vals as the y-axis. The color of the scatter points is determined by y-vals using the viridis color map.\n",
    "7. The x-axis is inverted using 'plt.gca().invert_xaxis()' to ensure the scatter graph is consistent with the original code.\n",
    "8. The x and y axis labels are set using the 'plt.xlabel()' and 'plt.ylabel()'\n",
    "9. The colorbar is displayed using 'plt.colorbar()'"
   ]
  },
  {
   "attachments": {},
   "cell_type": "markdown",
   "metadata": {},
   "source": [
    "Group our stars collection by colour, and find the mean temperature of each colour (rounded to 1 decimal place). Sort the results and display in a table. Use pandas this time."
   ]
  },
  {
   "cell_type": "code",
   "execution_count": 7,
   "metadata": {},
   "outputs": [
    {
     "name": "stdout",
     "output_type": "stream",
     "text": [
      "Mean Temperature for Blue: 21918.3\n",
      "Mean Temperature for Blue-white: 16660.0\n",
      "Mean Temperature for Orange: 4018.0\n",
      "Mean Temperature for Orange-Red: 5112.0\n",
      "Mean Temperature for Pale yellow orange: 7230.0\n",
      "Mean Temperature for Red: 3291.8\n",
      "Mean Temperature for White: 9720.3\n",
      "Mean Temperature for White-Yellow: 7100.0\n",
      "Mean Temperature for Whitish: 8876.0\n",
      "Mean Temperature for Yellowish: 4527.7\n",
      "Mean Temperature for Yellowish White: 10826.7\n",
      "Mean Temperature for yellow-white: 6466.2\n"
     ]
    }
   ],
   "source": [
    "for color, group in stars.groupby(\"Color\"):\n",
    "    mean_temperature = np.mean(group[\"Temperature\"]).round(1)\n",
    "    print(f\"Mean Temperature for {color}: {mean_temperature}\")"
   ]
  },
  {
   "cell_type": "code",
   "execution_count": 8,
   "metadata": {},
   "outputs": [
    {
     "data": {
      "text/html": [
       "<div>\n",
       "<style scoped>\n",
       "    .dataframe tbody tr th:only-of-type {\n",
       "        vertical-align: middle;\n",
       "    }\n",
       "\n",
       "    .dataframe tbody tr th {\n",
       "        vertical-align: top;\n",
       "    }\n",
       "\n",
       "    .dataframe thead th {\n",
       "        text-align: right;\n",
       "    }\n",
       "</style>\n",
       "<table border=\"1\" class=\"dataframe\">\n",
       "  <thead>\n",
       "    <tr style=\"text-align: right;\">\n",
       "      <th></th>\n",
       "      <th>Color</th>\n",
       "      <th>Mean temperature</th>\n",
       "    </tr>\n",
       "  </thead>\n",
       "  <tbody>\n",
       "    <tr>\n",
       "      <th>0</th>\n",
       "      <td>Blue</td>\n",
       "      <td>21918.3</td>\n",
       "    </tr>\n",
       "    <tr>\n",
       "      <th>1</th>\n",
       "      <td>Blue-white</td>\n",
       "      <td>16660.0</td>\n",
       "    </tr>\n",
       "    <tr>\n",
       "      <th>10</th>\n",
       "      <td>Yellowish White</td>\n",
       "      <td>10826.7</td>\n",
       "    </tr>\n",
       "    <tr>\n",
       "      <th>6</th>\n",
       "      <td>White</td>\n",
       "      <td>9720.3</td>\n",
       "    </tr>\n",
       "    <tr>\n",
       "      <th>8</th>\n",
       "      <td>Whitish</td>\n",
       "      <td>8876.0</td>\n",
       "    </tr>\n",
       "    <tr>\n",
       "      <th>4</th>\n",
       "      <td>Pale yellow orange</td>\n",
       "      <td>7230.0</td>\n",
       "    </tr>\n",
       "    <tr>\n",
       "      <th>7</th>\n",
       "      <td>White-Yellow</td>\n",
       "      <td>7100.0</td>\n",
       "    </tr>\n",
       "    <tr>\n",
       "      <th>11</th>\n",
       "      <td>yellow-white</td>\n",
       "      <td>6466.2</td>\n",
       "    </tr>\n",
       "    <tr>\n",
       "      <th>3</th>\n",
       "      <td>Orange-Red</td>\n",
       "      <td>5112.0</td>\n",
       "    </tr>\n",
       "    <tr>\n",
       "      <th>9</th>\n",
       "      <td>Yellowish</td>\n",
       "      <td>4527.7</td>\n",
       "    </tr>\n",
       "    <tr>\n",
       "      <th>2</th>\n",
       "      <td>Orange</td>\n",
       "      <td>4018.0</td>\n",
       "    </tr>\n",
       "    <tr>\n",
       "      <th>5</th>\n",
       "      <td>Red</td>\n",
       "      <td>3291.8</td>\n",
       "    </tr>\n",
       "  </tbody>\n",
       "</table>\n",
       "</div>"
      ],
      "text/plain": [
       "                 Color  Mean temperature\n",
       "0                 Blue           21918.3\n",
       "1           Blue-white           16660.0\n",
       "10     Yellowish White           10826.7\n",
       "6                White            9720.3\n",
       "8              Whitish            8876.0\n",
       "4   Pale yellow orange            7230.0\n",
       "7         White-Yellow            7100.0\n",
       "11        yellow-white            6466.2\n",
       "3           Orange-Red            5112.0\n",
       "9            Yellowish            4527.7\n",
       "2               Orange            4018.0\n",
       "5                  Red            3291.8"
      ]
     },
     "execution_count": 8,
     "metadata": {},
     "output_type": "execute_result"
    }
   ],
   "source": [
    "mean_temp_table = stars.groupby(\"Color\")[\"Temperature\"].mean().reset_index(name=\"Mean temperature\").sort_values(by=\"Mean temperature\", ascending=False).round(1)\n",
    "mean_temp_table\n"
   ]
  },
  {
   "attachments": {},
   "cell_type": "markdown",
   "metadata": {},
   "source": [
    "Group our stars collection by colour, and find the median temperature of each colour (rounded to 1 decimal place). Sort the results and display in a table. Use pandas this time."
   ]
  },
  {
   "cell_type": "code",
   "execution_count": 9,
   "metadata": {},
   "outputs": [
    {
     "data": {
      "text/html": [
       "<div>\n",
       "<style scoped>\n",
       "    .dataframe tbody tr th:only-of-type {\n",
       "        vertical-align: middle;\n",
       "    }\n",
       "\n",
       "    .dataframe tbody tr th {\n",
       "        vertical-align: top;\n",
       "    }\n",
       "\n",
       "    .dataframe thead th {\n",
       "        text-align: right;\n",
       "    }\n",
       "</style>\n",
       "<table border=\"1\" class=\"dataframe\">\n",
       "  <thead>\n",
       "    <tr style=\"text-align: right;\">\n",
       "      <th></th>\n",
       "      <th>Color</th>\n",
       "      <th>Median Temperature</th>\n",
       "    </tr>\n",
       "  </thead>\n",
       "  <tbody>\n",
       "    <tr>\n",
       "      <th>0</th>\n",
       "      <td>Blue</td>\n",
       "      <td>19921.5</td>\n",
       "    </tr>\n",
       "    <tr>\n",
       "      <th>1</th>\n",
       "      <td>Blue-white</td>\n",
       "      <td>14100.0</td>\n",
       "    </tr>\n",
       "    <tr>\n",
       "      <th>10</th>\n",
       "      <td>Yellowish White</td>\n",
       "      <td>11790.0</td>\n",
       "    </tr>\n",
       "    <tr>\n",
       "      <th>6</th>\n",
       "      <td>White</td>\n",
       "      <td>8879.5</td>\n",
       "    </tr>\n",
       "    <tr>\n",
       "      <th>8</th>\n",
       "      <td>Whitish</td>\n",
       "      <td>8876.0</td>\n",
       "    </tr>\n",
       "    <tr>\n",
       "      <th>4</th>\n",
       "      <td>Pale yellow orange</td>\n",
       "      <td>7230.0</td>\n",
       "    </tr>\n",
       "    <tr>\n",
       "      <th>7</th>\n",
       "      <td>White-Yellow</td>\n",
       "      <td>7100.0</td>\n",
       "    </tr>\n",
       "    <tr>\n",
       "      <th>11</th>\n",
       "      <td>yellow-white</td>\n",
       "      <td>6158.0</td>\n",
       "    </tr>\n",
       "    <tr>\n",
       "      <th>3</th>\n",
       "      <td>Orange-Red</td>\n",
       "      <td>5112.0</td>\n",
       "    </tr>\n",
       "    <tr>\n",
       "      <th>9</th>\n",
       "      <td>Yellowish</td>\n",
       "      <td>4526.0</td>\n",
       "    </tr>\n",
       "    <tr>\n",
       "      <th>2</th>\n",
       "      <td>Orange</td>\n",
       "      <td>4018.0</td>\n",
       "    </tr>\n",
       "    <tr>\n",
       "      <th>5</th>\n",
       "      <td>Red</td>\n",
       "      <td>3324.0</td>\n",
       "    </tr>\n",
       "  </tbody>\n",
       "</table>\n",
       "</div>"
      ],
      "text/plain": [
       "                 Color  Median Temperature\n",
       "0                 Blue             19921.5\n",
       "1           Blue-white             14100.0\n",
       "10     Yellowish White             11790.0\n",
       "6                White              8879.5\n",
       "8              Whitish              8876.0\n",
       "4   Pale yellow orange              7230.0\n",
       "7         White-Yellow              7100.0\n",
       "11        yellow-white              6158.0\n",
       "3           Orange-Red              5112.0\n",
       "9            Yellowish              4526.0\n",
       "2               Orange              4018.0\n",
       "5                  Red              3324.0"
      ]
     },
     "execution_count": 9,
     "metadata": {},
     "output_type": "execute_result"
    }
   ],
   "source": [
    "median_temp_table = stars.groupby(\"Color\")[\"Temperature\"].median().reset_index(name=\"Median Temperature\").sort_values(by=\"Median Temperature\", ascending=False).round(1)\n",
    "median_temp_table"
   ]
  },
  {
   "cell_type": "code",
   "execution_count": 10,
   "metadata": {},
   "outputs": [
    {
     "data": {
      "text/plain": [
       "0    1\n",
       "1    2\n",
       "2    3\n",
       "3    4\n",
       "4    5\n",
       "dtype: int64"
      ]
     },
     "execution_count": 10,
     "metadata": {},
     "output_type": "execute_result"
    }
   ],
   "source": [
    "s = pd.Series([1, 1, 2, 2, 3, 3, 4, 4, 5, 5])\n",
    "s.mode()"
   ]
  },
  {
   "attachments": {},
   "cell_type": "markdown",
   "metadata": {},
   "source": [
    "Can you find five numbers where the mean, median, mode and range are all 4?"
   ]
  },
  {
   "cell_type": "code",
   "execution_count": 11,
   "metadata": {},
   "outputs": [
    {
     "name": "stdout",
     "output_type": "stream",
     "text": [
      "Found numbers where mean, median, mode and range are all equal to 4: [2 4 4 4 6]\n"
     ]
    }
   ],
   "source": [
    "numbers = pd.Series([2, 4, 4, 4, 6])\n",
    "\n",
    "mean = numbers.mean()\n",
    "median = numbers.median()\n",
    "mode = numbers.mode().values[0]\n",
    "range_val = numbers.max() - numbers.min()\n",
    "\n",
    "if mean == median == mode == range_val == 4:\n",
    "    print(\"Found numbers where mean, median, mode and range are all equal to 4:\", numbers.values)\n",
    "else:\n",
    "    print(\"Numbers not found.\")"
   ]
  },
  {
   "attachments": {},
   "cell_type": "markdown",
   "metadata": {},
   "source": [
    "Make a box-plot of the temperatures of the stars in the stars.csv dataset."
   ]
  },
  {
   "cell_type": "code",
   "execution_count": 12,
   "metadata": {},
   "outputs": [
    {
     "data": {
      "text/plain": [
       "0.25     3344.25\n",
       "0.50     5776.00\n",
       "0.75    15055.50\n",
       "Name: Temperature, dtype: float64"
      ]
     },
     "execution_count": 12,
     "metadata": {},
     "output_type": "execute_result"
    }
   ],
   "source": [
    "stars.Temperature.quantile([0.25, 0.5, 0.75])\n"
   ]
  },
  {
   "cell_type": "code",
   "execution_count": 13,
   "metadata": {},
   "outputs": [
    {
     "data": {
      "text/plain": [
       "<Axes: >"
      ]
     },
     "execution_count": 13,
     "metadata": {},
     "output_type": "execute_result"
    },
    {
     "data": {
      "image/png": "[encoded data removed]",
      "text/plain": [
       "<Figure size 640x480 with 1 Axes>"
      ]
     },
     "metadata": {},
     "output_type": "display_data"
    }
   ],
   "source": [
    "temps = pd.Series(stars[\"Temperature\"])\n",
    "temps.plot.box(vert=False)"
   ]
  },
  {
   "attachments": {},
   "cell_type": "markdown",
   "metadata": {},
   "source": [
    "Calculate the position of the whisker on the right. Use the formula 1.5 * inter-quartile range to see how far it is from the upper quartile."
   ]
  },
  {
   "cell_type": "code",
   "execution_count": 14,
   "metadata": {},
   "outputs": [
    {
     "name": "stdout",
     "output_type": "stream",
     "text": [
      "iqr 11711.25\n",
      "right whisker 32622.375\n"
     ]
    }
   ],
   "source": [
    "iqr = stars.Temperature.quantile(0.75) - stars.Temperature.quantile(0.25)\n",
    "right_whisker_position = stars.Temperature.quantile(0.75) + 1.5 * iqr\n",
    "print(\"iqr\", iqr)\n",
    "print(\"right whisker\",right_whisker_position)\n"
   ]
  }
 ],
 "metadata": {
  "kernelspec": {
   "display_name": "Python 3",
   "language": "python",
   "name": "python3"
  },
  "language_info": {
   "codemirror_mode": {
    "name": "ipython",
    "version": 3
   },
   "file_extension": ".py",
   "mimetype": "text/x-python",
   "name": "python",
   "nbconvert_exporter": "python",
   "pygments_lexer": "ipython3",
   "version": "3.11.2"
  },
  "orig_nbformat": 4,
  "vscode": {
   "interpreter": {
    "hash": "b0fa6594d8f4cbf19f97940f81e996739fb7646882a419484c72d19e05852a7e"
   }
  }
 },
 "nbformat": 4,
 "nbformat_minor": 2
}
